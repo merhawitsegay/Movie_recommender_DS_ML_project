{
 "cells": [
  {
   "cell_type": "code",
   "execution_count": 1,
   "metadata": {},
   "outputs": [],
   "source": [
    "import pandas as pd\n",
    "import numpy as np"
   ]
  },
  {
   "cell_type": "markdown",
   "metadata": {},
   "source": [
    "## Extracting features of 2018 movies from Wikipedia"
   ]
  },
  {
   "cell_type": "code",
   "execution_count": 2,
   "metadata": {},
   "outputs": [],
   "source": [
    "link = \"https://en.wikipedia.org/wiki/List_of_American_films_of_2018\"\n",
    "df1 = pd.read_html(link, header=0)[2]\n",
    "df2 = pd.read_html(link, header=0)[3]\n",
    "df3 = pd.read_html(link, header=0)[4]\n",
    "df4 = pd.read_html(link, header=0)[5]"
   ]
  },
  {
   "cell_type": "code",
   "execution_count": 3,
   "metadata": {
    "scrolled": true
   },
   "outputs": [],
   "source": [
    "#df = df1.append(df2.append(df3.append(df4,ignore_index=True),ignore_index=True),ignore_index=True)\n",
    "df = pd.concat([df1,df2,df3,df4], ignore_index=True)"
   ]
  },
  {
   "cell_type": "code",
   "execution_count": 4,
   "metadata": {},
   "outputs": [
    {
     "data": {
      "text/html": [
       "<div>\n",
       "<style scoped>\n",
       "    .dataframe tbody tr th:only-of-type {\n",
       "        vertical-align: middle;\n",
       "    }\n",
       "\n",
       "    .dataframe tbody tr th {\n",
       "        vertical-align: top;\n",
       "    }\n",
       "\n",
       "    .dataframe thead th {\n",
       "        text-align: right;\n",
       "    }\n",
       "</style>\n",
       "<table border=\"1\" class=\"dataframe\">\n",
       "  <thead>\n",
       "    <tr style=\"text-align: right;\">\n",
       "      <th></th>\n",
       "      <th>Opening</th>\n",
       "      <th>Opening.1</th>\n",
       "      <th>Title</th>\n",
       "      <th>Production company</th>\n",
       "      <th>Cast and crew</th>\n",
       "      <th>.mw-parser-output .tooltip-dotted{border-bottom:1px dotted;cursor:help}Ref.</th>\n",
       "      <th>Ref.</th>\n",
       "    </tr>\n",
       "  </thead>\n",
       "  <tbody>\n",
       "    <tr>\n",
       "      <th>0</th>\n",
       "      <td>JANUARY</td>\n",
       "      <td>5</td>\n",
       "      <td>Insidious: The Last Key</td>\n",
       "      <td>Universal Pictures / Blumhouse Productions / S...</td>\n",
       "      <td>Adam Robitel (director); Leigh Whannell (scree...</td>\n",
       "      <td>[2]</td>\n",
       "      <td>NaN</td>\n",
       "    </tr>\n",
       "    <tr>\n",
       "      <th>1</th>\n",
       "      <td>JANUARY</td>\n",
       "      <td>5</td>\n",
       "      <td>The Strange Ones</td>\n",
       "      <td>Vertical Entertainment</td>\n",
       "      <td>Lauren Wolkstein (director); Christopher Radcl...</td>\n",
       "      <td>[3]</td>\n",
       "      <td>NaN</td>\n",
       "    </tr>\n",
       "    <tr>\n",
       "      <th>2</th>\n",
       "      <td>JANUARY</td>\n",
       "      <td>5</td>\n",
       "      <td>Stratton</td>\n",
       "      <td>Momentum Pictures</td>\n",
       "      <td>Simon West (director); Duncan Falconer, Warren...</td>\n",
       "      <td>[4]</td>\n",
       "      <td>NaN</td>\n",
       "    </tr>\n",
       "    <tr>\n",
       "      <th>3</th>\n",
       "      <td>JANUARY</td>\n",
       "      <td>10</td>\n",
       "      <td>Sweet Country</td>\n",
       "      <td>Samuel Goldwyn Films</td>\n",
       "      <td>Warwick Thornton (director); David Tranter, St...</td>\n",
       "      <td>[5]</td>\n",
       "      <td>NaN</td>\n",
       "    </tr>\n",
       "    <tr>\n",
       "      <th>4</th>\n",
       "      <td>JANUARY</td>\n",
       "      <td>12</td>\n",
       "      <td>The Commuter</td>\n",
       "      <td>Lionsgate / StudioCanal / The Picture Company</td>\n",
       "      <td>Jaume Collet-Serra (director); Byron Willinger...</td>\n",
       "      <td>[6]</td>\n",
       "      <td>NaN</td>\n",
       "    </tr>\n",
       "    <tr>\n",
       "      <th>...</th>\n",
       "      <td>...</td>\n",
       "      <td>...</td>\n",
       "      <td>...</td>\n",
       "      <td>...</td>\n",
       "      <td>...</td>\n",
       "      <td>...</td>\n",
       "      <td>...</td>\n",
       "    </tr>\n",
       "    <tr>\n",
       "      <th>268</th>\n",
       "      <td>DECEMBER</td>\n",
       "      <td>25</td>\n",
       "      <td>Holmes &amp; Watson</td>\n",
       "      <td>Columbia Pictures / Gary Sanchez Productions</td>\n",
       "      <td>Etan Cohen (director/screenplay); Will Ferrell...</td>\n",
       "      <td>NaN</td>\n",
       "      <td>[164]</td>\n",
       "    </tr>\n",
       "    <tr>\n",
       "      <th>269</th>\n",
       "      <td>DECEMBER</td>\n",
       "      <td>25</td>\n",
       "      <td>Vice</td>\n",
       "      <td>Annapurna Pictures / Plan B Entertainment</td>\n",
       "      <td>Adam McKay (director/screenplay); Christian Ba...</td>\n",
       "      <td>NaN</td>\n",
       "      <td>[137]</td>\n",
       "    </tr>\n",
       "    <tr>\n",
       "      <th>270</th>\n",
       "      <td>DECEMBER</td>\n",
       "      <td>25</td>\n",
       "      <td>On the Basis of Sex</td>\n",
       "      <td>Focus Features</td>\n",
       "      <td>Mimi Leder (director); Daniel Stiepleman (scre...</td>\n",
       "      <td>NaN</td>\n",
       "      <td>[229]</td>\n",
       "    </tr>\n",
       "    <tr>\n",
       "      <th>271</th>\n",
       "      <td>DECEMBER</td>\n",
       "      <td>25</td>\n",
       "      <td>Destroyer</td>\n",
       "      <td>Annapurna Pictures</td>\n",
       "      <td>Karyn Kusama (director); Phil Hay, Matt Manfre...</td>\n",
       "      <td>NaN</td>\n",
       "      <td>[261]</td>\n",
       "    </tr>\n",
       "    <tr>\n",
       "      <th>272</th>\n",
       "      <td>DECEMBER</td>\n",
       "      <td>28</td>\n",
       "      <td>Black Mirror: Bandersnatch</td>\n",
       "      <td>Netflix</td>\n",
       "      <td>David Slade (director); Charlie Brooker (scree...</td>\n",
       "      <td>NaN</td>\n",
       "      <td>[262]</td>\n",
       "    </tr>\n",
       "  </tbody>\n",
       "</table>\n",
       "<p>273 rows × 7 columns</p>\n",
       "</div>"
      ],
      "text/plain": [
       "      Opening  Opening.1                       Title  \\\n",
       "0     JANUARY          5     Insidious: The Last Key   \n",
       "1     JANUARY          5            The Strange Ones   \n",
       "2     JANUARY          5                    Stratton   \n",
       "3     JANUARY         10               Sweet Country   \n",
       "4     JANUARY         12                The Commuter   \n",
       "..        ...        ...                         ...   \n",
       "268  DECEMBER         25             Holmes & Watson   \n",
       "269  DECEMBER         25                        Vice   \n",
       "270  DECEMBER         25         On the Basis of Sex   \n",
       "271  DECEMBER         25                   Destroyer   \n",
       "272  DECEMBER         28  Black Mirror: Bandersnatch   \n",
       "\n",
       "                                    Production company  \\\n",
       "0    Universal Pictures / Blumhouse Productions / S...   \n",
       "1                               Vertical Entertainment   \n",
       "2                                    Momentum Pictures   \n",
       "3                                 Samuel Goldwyn Films   \n",
       "4        Lionsgate / StudioCanal / The Picture Company   \n",
       "..                                                 ...   \n",
       "268       Columbia Pictures / Gary Sanchez Productions   \n",
       "269          Annapurna Pictures / Plan B Entertainment   \n",
       "270                                     Focus Features   \n",
       "271                                 Annapurna Pictures   \n",
       "272                                            Netflix   \n",
       "\n",
       "                                         Cast and crew  \\\n",
       "0    Adam Robitel (director); Leigh Whannell (scree...   \n",
       "1    Lauren Wolkstein (director); Christopher Radcl...   \n",
       "2    Simon West (director); Duncan Falconer, Warren...   \n",
       "3    Warwick Thornton (director); David Tranter, St...   \n",
       "4    Jaume Collet-Serra (director); Byron Willinger...   \n",
       "..                                                 ...   \n",
       "268  Etan Cohen (director/screenplay); Will Ferrell...   \n",
       "269  Adam McKay (director/screenplay); Christian Ba...   \n",
       "270  Mimi Leder (director); Daniel Stiepleman (scre...   \n",
       "271  Karyn Kusama (director); Phil Hay, Matt Manfre...   \n",
       "272  David Slade (director); Charlie Brooker (scree...   \n",
       "\n",
       "    .mw-parser-output .tooltip-dotted{border-bottom:1px dotted;cursor:help}Ref.  \\\n",
       "0                                                  [2]                            \n",
       "1                                                  [3]                            \n",
       "2                                                  [4]                            \n",
       "3                                                  [5]                            \n",
       "4                                                  [6]                            \n",
       "..                                                 ...                            \n",
       "268                                                NaN                            \n",
       "269                                                NaN                            \n",
       "270                                                NaN                            \n",
       "271                                                NaN                            \n",
       "272                                                NaN                            \n",
       "\n",
       "      Ref.  \n",
       "0      NaN  \n",
       "1      NaN  \n",
       "2      NaN  \n",
       "3      NaN  \n",
       "4      NaN  \n",
       "..     ...  \n",
       "268  [164]  \n",
       "269  [137]  \n",
       "270  [229]  \n",
       "271  [261]  \n",
       "272  [262]  \n",
       "\n",
       "[273 rows x 7 columns]"
      ]
     },
     "execution_count": 4,
     "metadata": {},
     "output_type": "execute_result"
    }
   ],
   "source": [
    "df"
   ]
  },
  {
   "cell_type": "code",
   "execution_count": 5,
   "metadata": {},
   "outputs": [],
   "source": [
    "from tmdbv3api import TMDb\n",
    "#from omdbapi import OMDb\n",
    "import json\n",
    "import requests\n",
    "tmdb = TMDb()\n",
    "#omdb = OMDb()\n",
    "tmdb.api_key = 'ddc46900c7ab22df7cb7c606418b5216'"
   ]
  },
  {
   "cell_type": "code",
   "execution_count": 6,
   "metadata": {},
   "outputs": [],
   "source": [
    "from tmdbv3api import Movie\n",
    "tmdb_movie = Movie()\n",
    "def get_genre(x):\n",
    "    genres = []\n",
    "    result = tmdb_movie.search(x)\n",
    "    movie_id = result[0].id\n",
    "    response = requests.get('https://api.themoviedb.org/3/movie/{}?api_key={}'.format(movie_id,tmdb.api_key))\n",
    "    data_json = response.json()\n",
    "    if data_json['genres']:\n",
    "        genre_str = \" \" \n",
    "        for i in range(0,len(data_json['genres'])):\n",
    "            genres.append(data_json['genres'][i]['name'])\n",
    "        return genre_str.join(genres)\n",
    "    else:\n",
    "        np.NaN"
   ]
  },
  {
   "cell_type": "code",
   "execution_count": null,
   "metadata": {},
   "outputs": [],
   "source": []
  },
  {
   "cell_type": "code",
   "execution_count": null,
   "metadata": {},
   "outputs": [],
   "source": [
    "df['genres'] = df['Title'].map(lambda x: get_genre(str(x)))"
   ]
  },
  {
   "cell_type": "code",
   "execution_count": null,
   "metadata": {},
   "outputs": [],
   "source": [
    "df"
   ]
  },
  {
   "cell_type": "code",
   "execution_count": null,
   "metadata": {},
   "outputs": [],
   "source": [
    "df_2018 = df[['Title','Cast and crew','genres']]"
   ]
  },
  {
   "cell_type": "code",
   "execution_count": null,
   "metadata": {},
   "outputs": [],
   "source": [
    "df_2018"
   ]
  },
  {
   "cell_type": "code",
   "execution_count": null,
   "metadata": {},
   "outputs": [],
   "source": [
    "def get_director(x):\n",
    "    if \" (director)\" in x:\n",
    "        return x.split(\" (director)\")[0]\n",
    "    elif \" (directors)\" in x:\n",
    "        return x.split(\" (directors)\")[0]\n",
    "    else:\n",
    "        return x.split(\" (director/screenplay)\")[0]"
   ]
  },
  {
   "cell_type": "code",
   "execution_count": null,
   "metadata": {},
   "outputs": [],
   "source": [
    "df_2018['director_name'] = df_2018['Cast and crew'].map(lambda x: get_director(x))"
   ]
  },
  {
   "cell_type": "code",
   "execution_count": null,
   "metadata": {},
   "outputs": [],
   "source": [
    "def get_actor1(x):\n",
    "    return ((x.split(\"screenplay); \")[-1]).split(\", \")[0])"
   ]
  },
  {
   "cell_type": "code",
   "execution_count": null,
   "metadata": {
    "scrolled": true
   },
   "outputs": [],
   "source": [
    "df_2018['actor_1_name'] = df_2018['Cast and crew'].map(lambda x: get_actor1(x))"
   ]
  },
  {
   "cell_type": "code",
   "execution_count": null,
   "metadata": {},
   "outputs": [],
   "source": [
    "def get_actor2(x):\n",
    "    if len((x.split(\"screenplay); \")[-1]).split(\", \")) < 2:\n",
    "        return np.NaN\n",
    "    else:\n",
    "        return ((x.split(\"screenplay); \")[-1]).split(\", \")[1])"
   ]
  },
  {
   "cell_type": "code",
   "execution_count": null,
   "metadata": {},
   "outputs": [],
   "source": [
    "df_2018['actor_2_name'] = df_2018['Cast and crew'].map(lambda x: get_actor2(x))"
   ]
  },
  {
   "cell_type": "code",
   "execution_count": null,
   "metadata": {},
   "outputs": [],
   "source": [
    "def get_actor3(x):\n",
    "    if len((x.split(\"screenplay); \")[-1]).split(\", \")) < 3:\n",
    "        return np.NaN\n",
    "    else:\n",
    "        return ((x.split(\"screenplay); \")[-1]).split(\", \")[2])"
   ]
  },
  {
   "cell_type": "code",
   "execution_count": null,
   "metadata": {},
   "outputs": [],
   "source": [
    "df_2018['actor_3_name'] = df_2018['Cast and crew'].map(lambda x: get_actor3(x))"
   ]
  },
  {
   "cell_type": "code",
   "execution_count": null,
   "metadata": {},
   "outputs": [],
   "source": [
    "df_2018"
   ]
  },
  {
   "cell_type": "code",
   "execution_count": null,
   "metadata": {},
   "outputs": [],
   "source": [
    "df_2018 = df_2018.rename(columns={'Title':'movie_title'})"
   ]
  },
  {
   "cell_type": "code",
   "execution_count": null,
   "metadata": {},
   "outputs": [],
   "source": [
    "new_df18 = df_2018.loc[:,['director_name','actor_1_name','actor_2_name','actor_3_name','genres','movie_title']]"
   ]
  },
  {
   "cell_type": "code",
   "execution_count": null,
   "metadata": {},
   "outputs": [],
   "source": [
    "new_df18"
   ]
  },
  {
   "cell_type": "code",
   "execution_count": null,
   "metadata": {},
   "outputs": [],
   "source": [
    "new_df18['actor_2_name'] = new_df18['actor_2_name'].replace(np.nan, 'unknown')\n",
    "new_df18['actor_3_name'] = new_df18['actor_3_name'].replace(np.nan, 'unknown')"
   ]
  },
  {
   "cell_type": "code",
   "execution_count": null,
   "metadata": {},
   "outputs": [],
   "source": [
    "new_df18['movie_title'] = new_df18['movie_title'].str.lower()"
   ]
  },
  {
   "cell_type": "code",
   "execution_count": null,
   "metadata": {},
   "outputs": [],
   "source": [
    "new_df18['comb'] = new_df18['actor_1_name'] + ' ' + new_df18['actor_2_name'] + ' '+ new_df18['actor_3_name'] + ' '+ new_df18['director_name'] +' ' + new_df18['genres']"
   ]
  },
  {
   "cell_type": "code",
   "execution_count": null,
   "metadata": {},
   "outputs": [],
   "source": [
    "new_df18"
   ]
  },
  {
   "cell_type": "markdown",
   "metadata": {},
   "source": [
    "## Extracting features of 2019 movies from Wikipedia"
   ]
  },
  {
   "cell_type": "code",
   "execution_count": null,
   "metadata": {},
   "outputs": [],
   "source": [
    "link = \"https://en.wikipedia.org/wiki/List_of_American_films_of_2019\"\n",
    "df1 = pd.read_html(link, header=0)[2]\n",
    "df2 = pd.read_html(link, header=0)[3]\n",
    "df3 = pd.read_html(link, header=0)[4]\n",
    "df4 = pd.read_html(link, header=0)[5]"
   ]
  },
  {
   "cell_type": "code",
   "execution_count": null,
   "metadata": {},
   "outputs": [],
   "source": [
    "df1"
   ]
  },
  {
   "cell_type": "code",
   "execution_count": null,
   "metadata": {},
   "outputs": [],
   "source": [
    "#df = df1.append(df2.append(df3.append(df4,ignore_index=True),ignore_index=True),ignore_index=True)\n",
    "df = pd.concat([df1,df2,df3,df4],ignore_index=True)"
   ]
  },
  {
   "cell_type": "code",
   "execution_count": null,
   "metadata": {},
   "outputs": [],
   "source": [
    "df"
   ]
  },
  {
   "cell_type": "code",
   "execution_count": null,
   "metadata": {},
   "outputs": [],
   "source": [
    "df['genres'] = df['Title'].map(lambda x: get_genre(str(x)))"
   ]
  },
  {
   "cell_type": "code",
   "execution_count": null,
   "metadata": {},
   "outputs": [],
   "source": [
    "df_2019 = df[['Title','Cast and crew','genres']]"
   ]
  },
  {
   "cell_type": "code",
   "execution_count": null,
   "metadata": {},
   "outputs": [],
   "source": [
    "df_2019"
   ]
  },
  {
   "cell_type": "code",
   "execution_count": null,
   "metadata": {},
   "outputs": [],
   "source": [
    "def get_director(x):\n",
    "    if \" (director)\" in x:\n",
    "        return x.split(\" (director)\")[0]\n",
    "    elif \" (directors)\" in x:\n",
    "        return x.split(\" (directors)\")[0]\n",
    "    else:\n",
    "        return x.split(\" (director/screenplay)\")[0]"
   ]
  },
  {
   "cell_type": "code",
   "execution_count": null,
   "metadata": {},
   "outputs": [],
   "source": [
    "df_2019['director_name'] = df_2019['Cast and crew'].map(lambda x: get_director(str(x)))"
   ]
  },
  {
   "cell_type": "code",
   "execution_count": null,
   "metadata": {},
   "outputs": [],
   "source": [
    "def get_actor1(x):\n",
    "    return ((x.split(\"screenplay); \")[-1]).split(\", \")[0])"
   ]
  },
  {
   "cell_type": "code",
   "execution_count": null,
   "metadata": {},
   "outputs": [],
   "source": [
    "df_2019['actor_1_name'] = df_2019['Cast and crew'].map(lambda x: get_actor1(x))"
   ]
  },
  {
   "cell_type": "code",
   "execution_count": null,
   "metadata": {},
   "outputs": [],
   "source": [
    "def get_actor2(x):\n",
    "    if len((x.split(\"screenplay); \")[-1]).split(\", \")) < 2:\n",
    "        return np.NaN\n",
    "    else:\n",
    "        return ((x.split(\"screenplay); \")[-1]).split(\", \")[1])"
   ]
  },
  {
   "cell_type": "code",
   "execution_count": null,
   "metadata": {},
   "outputs": [],
   "source": [
    "df_2019['actor_2_name'] = df_2019['Cast and crew'].map(lambda x: get_actor2(x))"
   ]
  },
  {
   "cell_type": "code",
   "execution_count": null,
   "metadata": {},
   "outputs": [],
   "source": [
    "def get_actor3(x):\n",
    "    if len((x.split(\"screenplay); \")[-1]).split(\", \")) < 3:\n",
    "        return np.NaN\n",
    "    else:\n",
    "        return ((x.split(\"screenplay); \")[-1]).split(\", \")[2])"
   ]
  },
  {
   "cell_type": "code",
   "execution_count": null,
   "metadata": {},
   "outputs": [],
   "source": [
    "df_2019['actor_3_name'] = df_2019['Cast and crew'].map(lambda x: get_actor3(x))"
   ]
  },
  {
   "cell_type": "code",
   "execution_count": null,
   "metadata": {},
   "outputs": [],
   "source": [
    "df_2019 = df_2019.rename(columns={'Title':'movie_title'})"
   ]
  },
  {
   "cell_type": "code",
   "execution_count": null,
   "metadata": {},
   "outputs": [],
   "source": [
    "new_df19 = df_2019.loc[:,['director_name','actor_1_name','actor_2_name','actor_3_name','genres','movie_title']]"
   ]
  },
  {
   "cell_type": "code",
   "execution_count": null,
   "metadata": {},
   "outputs": [],
   "source": [
    "new_df19['actor_2_name'] = new_df19['actor_2_name'].replace(np.nan, 'unknown')\n",
    "new_df19['actor_3_name'] = new_df19['actor_3_name'].replace(np.nan, 'unknown')"
   ]
  },
  {
   "cell_type": "code",
   "execution_count": null,
   "metadata": {},
   "outputs": [],
   "source": [
    "new_df19['movie_title'] = new_df19['movie_title'].str.lower()"
   ]
  },
  {
   "cell_type": "code",
   "execution_count": null,
   "metadata": {},
   "outputs": [],
   "source": [
    "new_df19['comb'] = new_df19['actor_1_name'] + ' ' + new_df19['actor_2_name'] + ' '+ new_df19['actor_3_name'] + ' '+ new_df19['director_name'] +' ' + new_df19['genres']"
   ]
  },
  {
   "cell_type": "code",
   "execution_count": null,
   "metadata": {},
   "outputs": [],
   "source": [
    "new_df19"
   ]
  },
  {
   "cell_type": "code",
   "execution_count": null,
   "metadata": {},
   "outputs": [],
   "source": [
    "my_df = new_df18.append(new_df19,ignore_index=True)"
   ]
  },
  {
   "cell_type": "code",
   "execution_count": null,
   "metadata": {},
   "outputs": [],
   "source": [
    "my_df"
   ]
  },
  {
   "cell_type": "code",
   "execution_count": null,
   "metadata": {},
   "outputs": [],
   "source": [
    "#old_df = pd.read_csv('../datasets/new_data.csv')\n",
    "old_df = pd.read_csv('new_data.csv')\n"
   ]
  },
  {
   "cell_type": "code",
   "execution_count": null,
   "metadata": {},
   "outputs": [],
   "source": [
    "old_df"
   ]
  },
  {
   "cell_type": "code",
   "execution_count": null,
   "metadata": {},
   "outputs": [],
   "source": [
    "final_df = old_df.append(my_df,ignore_index=True)"
   ]
  },
  {
   "cell_type": "code",
   "execution_count": null,
   "metadata": {},
   "outputs": [],
   "source": [
    "final_df"
   ]
  },
  {
   "cell_type": "code",
   "execution_count": null,
   "metadata": {},
   "outputs": [],
   "source": [
    "final_df.isna().sum()"
   ]
  },
  {
   "cell_type": "code",
   "execution_count": null,
   "metadata": {},
   "outputs": [],
   "source": [
    "final_df = final_df.dropna(how='any')"
   ]
  },
  {
   "cell_type": "code",
   "execution_count": null,
   "metadata": {},
   "outputs": [],
   "source": [
    "final_df.isna().sum()"
   ]
  },
  {
   "cell_type": "code",
   "execution_count": null,
   "metadata": {},
   "outputs": [],
   "source": [
    "#final_df.to_csv('../datasets/final_data.csv',index=False)\n",
    "final_df.to_csv('final_data.csv',index=False)"
   ]
  },
  {
   "cell_type": "code",
   "execution_count": null,
   "metadata": {},
   "outputs": [],
   "source": []
  }
 ],
 "metadata": {
  "kernelspec": {
   "display_name": "Python 3 (ipykernel)",
   "language": "python",
   "name": "python3"
  },
  "language_info": {
   "codemirror_mode": {
    "name": "ipython",
    "version": 3
   },
   "file_extension": ".py",
   "mimetype": "text/x-python",
   "name": "python",
   "nbconvert_exporter": "python",
   "pygments_lexer": "ipython3",
   "version": "3.9.13"
  }
 },
 "nbformat": 4,
 "nbformat_minor": 2
}
